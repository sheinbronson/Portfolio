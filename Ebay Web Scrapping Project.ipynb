{
 "cells": [
  {
   "cell_type": "code",
   "execution_count": 26,
   "id": "6da35a07",
   "metadata": {},
   "outputs": [],
   "source": [
    "from bs4 import BeautifulSoup\n",
    "import requests\n",
    "import smtplib\n",
    "import time\n",
    "import datetime"
   ]
  },
  {
   "cell_type": "code",
   "execution_count": null,
   "id": "2179e193",
   "metadata": {},
   "outputs": [],
   "source": []
  },
  {
   "cell_type": "code",
   "execution_count": 27,
   "id": "898f4032",
   "metadata": {},
   "outputs": [],
   "source": [
    "#Conect to Website\n",
    "\n",
    "url = 'https://www.ebay.ca/itm/334375833149?_trkparms=ispr%3D1&hash=item4dda5a4e3d:g:upMAAOSwi7piOqd9&amdata=enc%3AAQAGAAAA4OO5eOWkq3T8N86UI5mBnS2QhNV6h%2BN15gNQGevmnSkWLTnIVnwKt3WhhBWyFKpmXS1WVIK9jvqESpu56jcZDCkLqhLxS8xElKwKBr%2BxBPGC5B9d%2FlWivZbh%2FncX26mC1BFnoHMDU%2FeifsyMUnRqr2g19h70L%2F%2FmkLrBcGZZ%2FZejw4GapRqZRM1H6wc2m4PAFJqYWpMRjuxRLOpdJHUA6YctFNXAjutwUm7qUUWnZH0hwgaRz%2FqsP8E62z7PDrFBbES0Z2AJAs35CV8ysa4bwxBOU2Zfkj3hWhMV%2Bbqaq%2FZo%7Ctkp%3ABFBMsLzWsf9f'\n",
    "\n",
    "headers = {\"User-Agent\": \"Mozilla/5.0 (Macintosh; Intel Mac OS X 10_15_7) AppleWebKit/537.36 (KHTML, like Gecko) Chrome/100.0.4896.60 Safari/537.36\"}\n",
    "\n",
    "    \n",
    "page= requests.get (url, headers= headers)\n",
    "\n",
    "soup1 = BeautifulSoup(page.content, \"html5lib\")\n",
    "\n",
    "soup2 = BeautifulSoup(soup1.prettify(), \"html5lib\")\n",
    "\n",
    "title = soup2.find(class_='x-item-title__mainTitle').get_text()\n",
    "\n",
    "price = soup2.find(id='mm-saleDscPrc').get_text()"
   ]
  },
  {
   "cell_type": "code",
   "execution_count": 28,
   "id": "9b2dcafe",
   "metadata": {},
   "outputs": [
    {
     "name": "stdout",
     "output_type": "stream",
     "text": [
      "Dell 14\" 7490 Gaming Laptop 32GB RAM 1TB SSD Intel Core i7 4.20GHz Thunderbolt 3\n",
      "S $819.99\n"
     ]
    }
   ],
   "source": [
    "price=price.strip()[1:]\n",
    "title=title.strip()\n",
    "\n",
    "print(title)\n",
    "print(price)"
   ]
  },
  {
   "cell_type": "code",
   "execution_count": 29,
   "id": "6bf38f15",
   "metadata": {},
   "outputs": [
    {
     "name": "stdout",
     "output_type": "stream",
     "text": [
      "2022-04-06\n"
     ]
    }
   ],
   "source": [
    "import datetime\n",
    "\n",
    "today = datetime.date.today()\n",
    "\n",
    "print(today)\n"
   ]
  },
  {
   "cell_type": "code",
   "execution_count": 81,
   "id": "bd462bfc",
   "metadata": {},
   "outputs": [],
   "source": [
    "#date & time\n",
    "\n",
    "import csv\n",
    "header = ['Title','Price','Date']\n",
    "data = [title, price, today]\n",
    "\n",
    "type(data)\n",
    "#with open('EbayWebScrapperDataset.csv','w',newline='',encoding='UTF8')as f:\n",
    "    #writer = csv.writer(f)\n",
    "   # writer.writerow(header)\n",
    "    #writer.writerow(data)"
   ]
  },
  {
   "cell_type": "code",
   "execution_count": 45,
   "id": "bb1947f7",
   "metadata": {},
   "outputs": [
    {
     "name": "stdout",
     "output_type": "stream",
     "text": [
      "                                               Title      Price\n",
      "0  Dell 14\" 7490 Gaming Laptop 32GB RAM 1TB SSD I...  S $819.99\n",
      "1  Dell 14\" 7490 Gaming Laptop 32GB RAM 1TB SSD I...  S $819.99\n",
      "2  Dell 14\" 7490 Gaming Laptop 32GB RAM 1TB SSD I...  S $819.99\n",
      "3  Dell 14\" 7490 Gaming Laptop 32GB RAM 1TB SSD I...  S $819.99\n",
      "4  Dell 14\" 7490 Gaming Laptop 32GB RAM 1TB SSD I...  S $819.99\n",
      "5  Dell 14\" 7490 Gaming Laptop 32GB RAM 1TB SSD I...  S $819.99\n"
     ]
    }
   ],
   "source": [
    "#Reading the csv file\n",
    "import pandas as pd\n",
    "df = pd.read_csv(r\"/Users/shein/EbayWebScrapperDataset.csv\")\n",
    "                 \n",
    "print(df)"
   ]
  },
  {
   "cell_type": "code",
   "execution_count": 60,
   "id": "272b25c1",
   "metadata": {},
   "outputs": [],
   "source": [
    "#now we are appending data to the csv\n",
    "\n",
    "with open('EbayWebScrapperDataset.csv','a+',newline='',encoding='UTF8')as f:\n",
    "    writer = csv.writer(f)\n",
    "    writer.writerow(data)"
   ]
  },
  {
   "cell_type": "code",
   "execution_count": 105,
   "id": "57088eb1",
   "metadata": {},
   "outputs": [],
   "source": [
    "def checkPrice():\n",
    "    url = 'https://www.ebay.ca/itm/334375833149?_trkparms=ispr%3D1&hash=item4dda5a4e3d:g:upMAAOSwi7piOqd9&amdata=enc%3AAQAGAAAA4OO5eOWkq3T8N86UI5mBnS2QhNV6h%2BN15gNQGevmnSkWLTnIVnwKt3WhhBWyFKpmXS1WVIK9jvqESpu56jcZDCkLqhLxS8xElKwKBr%2BxBPGC5B9d%2FlWivZbh%2FncX26mC1BFnoHMDU%2FeifsyMUnRqr2g19h70L%2F%2FmkLrBcGZZ%2FZejw4GapRqZRM1H6wc2m4PAFJqYWpMRjuxRLOpdJHUA6YctFNXAjutwUm7qUUWnZH0hwgaRz%2FqsP8E62z7PDrFBbES0Z2AJAs35CV8ysa4bwxBOU2Zfkj3hWhMV%2Bbqaq%2FZo%7Ctkp%3ABFBMsLzWsf9f'\n",
    "\n",
    "    headers = {\"User-Agent\": \"Mozilla/5.0 (Macintosh; Intel Mac OS X 10_15_7) AppleWebKit/537.36 (KHTML, like Gecko) Chrome/100.0.4896.60 Safari/537.36\"}\n",
    "\n",
    "    \n",
    "    page= requests.get (url, headers= headers)\n",
    "\n",
    "    soup1 = BeautifulSoup(page.content, \"lxml\")\n",
    "\n",
    "    soup2 = BeautifulSoup(soup1.prettify(), \"lxml\")\n",
    "\n",
    "    title = soup2.find(class_='x-item-title__mainTitle').get_text()\n",
    "\n",
    "    price = soup2.find(id='mm-saleDscPrc').get_text()\n",
    "    \n",
    "    price=price.strip()[1:]\n",
    "    title=title.strip()\n",
    "    \n",
    "    import datetime\n",
    "\n",
    "    today = datetime.date.today()\n",
    "    \n",
    "    import csv\n",
    "    header = ['Title','Price','Date']\n",
    "    data = [title, price, today]\n",
    "    \n",
    "    type(data)\n",
    "    with open('EbayWebScrapperDataset.csv','a+',newline='',encoding='UTF8')as f:\n",
    "        writer=csv.writer(f)\n",
    "        writer.writerow(data)\n",
    "        \n",
    "    if(price  < 800):\n",
    "        send_mail()\n"
   ]
  },
  {
   "cell_type": "markdown",
   "id": "d8ad93cf",
   "metadata": {},
   "source": []
  },
  {
   "cell_type": "code",
   "execution_count": 113,
   "id": "6b5e0003",
   "metadata": {},
   "outputs": [
    {
     "ename": "KeyboardInterrupt",
     "evalue": "",
     "output_type": "error",
     "traceback": [
      "\u001b[0;31m---------------------------------------------------------------------------\u001b[0m",
      "\u001b[0;31mKeyboardInterrupt\u001b[0m                         Traceback (most recent call last)",
      "\u001b[0;32m/var/folders/p0/132cgqks6sx_7hwyv0wd3ftw0000gn/T/ipykernel_16394/1519020606.py\u001b[0m in \u001b[0;36m<module>\u001b[0;34m\u001b[0m\n\u001b[1;32m      1\u001b[0m \u001b[0;32mwhile\u001b[0m\u001b[0;34m(\u001b[0m\u001b[0;32mTrue\u001b[0m\u001b[0;34m)\u001b[0m\u001b[0;34m:\u001b[0m\u001b[0;34m\u001b[0m\u001b[0;34m\u001b[0m\u001b[0m\n\u001b[1;32m      2\u001b[0m     \u001b[0mcheckPrice\u001b[0m\u001b[0;34m(\u001b[0m\u001b[0;34m)\u001b[0m\u001b[0;34m\u001b[0m\u001b[0;34m\u001b[0m\u001b[0m\n\u001b[0;32m----> 3\u001b[0;31m     \u001b[0mtime\u001b[0m\u001b[0;34m.\u001b[0m\u001b[0msleep\u001b[0m\u001b[0;34m(\u001b[0m\u001b[0;36m86400\u001b[0m\u001b[0;34m)\u001b[0m\u001b[0;34m\u001b[0m\u001b[0;34m\u001b[0m\u001b[0m\n\u001b[0m",
      "\u001b[0;31mKeyboardInterrupt\u001b[0m: "
     ]
    }
   ],
   "source": [
    "while(True):\n",
    "    checkPrice()\n",
    "    time.sleep(86400)  "
   ]
  },
  {
   "cell_type": "code",
   "execution_count": 114,
   "id": "f37ad74b",
   "metadata": {},
   "outputs": [
    {
     "name": "stdout",
     "output_type": "stream",
     "text": [
      "                                                Title      Price        Date\n",
      "0   Dell 14\" 7490 Gaming Laptop 32GB RAM 1TB SSD I...  S $819.99  2022-04-06\n",
      "1   Dell 14\" 7490 Gaming Laptop 32GB RAM 1TB SSD I...  S $819.99  2022-04-06\n",
      "2   Dell 14\" 7490 Gaming Laptop 32GB RAM 1TB SSD I...  S $819.99  2022-04-06\n",
      "3   Dell 14\" 7490 Gaming Laptop 32GB RAM 1TB SSD I...  S $819.99  2022-04-06\n",
      "4   Dell 14\" 7490 Gaming Laptop 32GB RAM 1TB SSD I...  S $819.99  2022-04-06\n",
      "5   Dell 14\" 7490 Gaming Laptop 32GB RAM 1TB SSD I...  S $819.99  2022-04-06\n",
      "6   Dell 14\" 7490 Gaming Laptop 32GB RAM 1TB SSD I...  S $819.99  2022-04-06\n",
      "7   Dell 14\" 7490 Gaming Laptop 32GB RAM 1TB SSD I...  S $819.99  2022-04-06\n",
      "8   Dell 14\" 7490 Gaming Laptop 32GB RAM 1TB SSD I...  S $819.99  2022-04-06\n",
      "9   Dell 14\" 7490 Gaming Laptop 32GB RAM 1TB SSD I...  S $819.99  2022-04-06\n",
      "10  Dell 14\" 7490 Gaming Laptop 32GB RAM 1TB SSD I...  S $819.99  2022-04-06\n",
      "11  Dell 14\" 7490 Gaming Laptop 32GB RAM 1TB SSD I...  S $819.99  2022-04-06\n",
      "12  Dell 14\" 7490 Gaming Laptop 32GB RAM 1TB SSD I...  S $819.99  2022-04-06\n",
      "13  Dell 14\" 7490 Gaming Laptop 32GB RAM 1TB SSD I...  S $819.99  2022-04-06\n",
      "14  Dell 14\" 7490 Gaming Laptop 32GB RAM 1TB SSD I...  S $819.99  2022-04-06\n",
      "15  Dell 14\" 7490 Gaming Laptop 32GB RAM 1TB SSD I...  S $819.99  2022-04-06\n",
      "16  Dell 14\" 7490 Gaming Laptop 32GB RAM 1TB SSD I...  S $819.99  2022-04-06\n",
      "17  Dell 14\" 7490 Gaming Laptop 32GB RAM 1TB SSD I...  S $819.99  2022-04-06\n",
      "18  Dell 14\" 7490 Gaming Laptop 32GB RAM 1TB SSD I...  S $819.99  2022-04-06\n",
      "19  Dell 14\" 7490 Gaming Laptop 32GB RAM 1TB SSD I...  S $819.99  2022-04-06\n",
      "20  Dell 14\" 7490 Gaming Laptop 32GB RAM 1TB SSD I...  S $819.99  2022-04-06\n",
      "21  Dell 14\" 7490 Gaming Laptop 32GB RAM 1TB SSD I...  S $819.99  2022-04-06\n"
     ]
    }
   ],
   "source": [
    "import pandas as pd\n",
    "df = pd.read_csv(r\"/Users/shein/EbayWebScrapperDataset.csv\")\n",
    "                 \n",
    "print(df)"
   ]
  },
  {
   "cell_type": "code",
   "execution_count": null,
   "id": "2fb460f7",
   "metadata": {},
   "outputs": [],
   "source": [
    "def send_mail():\n",
    "    server = smtplib.SMTP_SSL('smtp.gamil.com',465)\n",
    "    server.ehlo()\n",
    "    #server.starttls()\n",
    "    server.ehlo()\n",
    "    server.login('sheinbronson@gmail.com','xxxxxxxxxxxxxxxxxxxxx')\n",
    "    subject = \"The Dell laptop you want is below $800!\"\n",
    "    body = \"Shein, This is the moment we have been waiting for, Now is your chance to pick up the laptop of your dreams. Don't miss it!\"\n",
    "    \n",
    "    msg = f\"Subject: {subject}\\n\\n{body}\n",
    "    \n",
    "    server.sendmail(\n",
    "    'sheinbronson@gmail.com', msg\n",
    "    \n",
    "    )"
   ]
  }
 ],
 "metadata": {
  "kernelspec": {
   "display_name": "Python 3 (ipykernel)",
   "language": "python",
   "name": "python3"
  },
  "language_info": {
   "codemirror_mode": {
    "name": "ipython",
    "version": 3
   },
   "file_extension": ".py",
   "mimetype": "text/x-python",
   "name": "python",
   "nbconvert_exporter": "python",
   "pygments_lexer": "ipython3",
   "version": "3.9.7"
  }
 },
 "nbformat": 4,
 "nbformat_minor": 5
}
